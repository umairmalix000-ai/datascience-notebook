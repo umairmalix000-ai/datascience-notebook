{
  "nbformat": 4,
  "nbformat_minor": 0,
  "metadata": {
    "colab": {
      "provenance": [],
      "mount_file_id": "1Ymu-D3ranFlL1T0W7JbWjPQHclVl1usv",
      "authorship_tag": "ABX9TyO3/+h3z+TEwctjRRfi7tUf",
      "include_colab_link": true
    },
    "kernelspec": {
      "name": "python3",
      "display_name": "Python 3"
    },
    "language_info": {
      "name": "python"
    }
  },
  "cells": [
    {
      "cell_type": "markdown",
      "metadata": {
        "id": "view-in-github",
        "colab_type": "text"
      },
      "source": [
        "<a href=\"https://colab.research.google.com/github/umairmalix000-ai/datascience-notebook/blob/main/notebook1.ipynb\" target=\"_parent\"><img src=\"https://colab.research.google.com/assets/colab-badge.svg\" alt=\"Open In Colab\"/></a>"
      ]
    },
    {
      "cell_type": "code",
      "execution_count": null,
      "metadata": {
        "id": "saNf8iyfbz7o"
      },
      "outputs": [],
      "source": []
    },
    {
      "cell_type": "markdown",
      "source": [
        "# My Jupyter Notebook on IBM Watson Studio"
      ],
      "metadata": {
        "id": "zJkOYPIQd9Gw"
      }
    },
    {
      "cell_type": "markdown",
      "source": [
        "This notebook is created for practicing data science basics.\n"
      ],
      "metadata": {
        "id": "TkyjwKJteWFE"
      }
    },
    {
      "cell_type": "markdown",
      "source": [
        "Below are some of the popular languages used in Data Science:\n",
        "1. Python\n",
        "2. R\n",
        "3. SQL\n",
        "4. Julia"
      ],
      "metadata": {
        "id": "yu_xqa2Ce3g4"
      }
    },
    {
      "cell_type": "markdown",
      "source": [
        "Some of the commonly used libraries in Data Science are:\n",
        "1. Pandas\n",
        "2. NumPy\n",
        "3. Matplotlib\n",
        "4. Scikit-learn\n"
      ],
      "metadata": {
        "id": "oJA35dqhf8dN"
      }
    },
    {
      "cell_type": "markdown",
      "source": [
        "| Data Science Tools   |\n",
        "|----------------------|\n",
        "| Jupyter Notebook     |\n",
        "| RStudio              |\n",
        "| Apache Spark         |\n"
      ],
      "metadata": {
        "id": "gAFEaF2wgGGH"
      }
    },
    {
      "cell_type": "markdown",
      "source": [
        "Examples of evaluating arithmetic expressions in Python are shown below.\n"
      ],
      "metadata": {
        "id": "asY95onlglja"
      }
    },
    {
      "cell_type": "code",
      "source": [
        "# multiply and add numbers\n",
        "(3*4) + 5\n"
      ],
      "metadata": {
        "colab": {
          "base_uri": "https://localhost:8080/"
        },
        "id": "nspzwRBUg0Zs",
        "outputId": "928427f5-f2cd-4f4c-cf33-05d7d0721948"
      },
      "execution_count": 4,
      "outputs": [
        {
          "output_type": "execute_result",
          "data": {
            "text/plain": [
              "17"
            ]
          },
          "metadata": {},
          "execution_count": 4
        }
      ]
    },
    {
      "cell_type": "code",
      "source": [
        "# Convert minutes to hours\n",
        "minutes = 200\n",
        "hours = minutes / 60\n",
        "hours\n"
      ],
      "metadata": {
        "colab": {
          "base_uri": "https://localhost:8080/"
        },
        "id": "vkpZ176og3_L",
        "outputId": "d9b5f1e8-7336-4fe2-d372-7bd7294e4ef9"
      },
      "execution_count": 5,
      "outputs": [
        {
          "output_type": "execute_result",
          "data": {
            "text/plain": [
              "3.3333333333333335"
            ]
          },
          "metadata": {},
          "execution_count": 5
        }
      ]
    },
    {
      "cell_type": "markdown",
      "source": [
        "The objectives of this notebook are:\n",
        "- Learn Data Science languages\n",
        "- Learn Data Science libraries\n",
        "- Practice arithmetic expressions\n",
        "- Share notebook via GitHub\n"
      ],
      "metadata": {
        "id": "wPO4upUyhbB2"
      }
    },
    {
      "cell_type": "markdown",
      "source": [
        "**Author:** Umair Abid\n"
      ],
      "metadata": {
        "id": "nCV2QOxBhp8U"
      }
    },
    {
      "cell_type": "code",
      "source": [],
      "metadata": {
        "id": "ZHjFO1uRhr0s"
      },
      "execution_count": null,
      "outputs": []
    }
  ]
}